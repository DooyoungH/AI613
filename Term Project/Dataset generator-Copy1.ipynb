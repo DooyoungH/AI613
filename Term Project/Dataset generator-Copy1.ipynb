{
 "cells": [
  {
   "cell_type": "code",
   "execution_count": 1,
   "metadata": {},
   "outputs": [],
   "source": [
    "# Download the dataset (3GB)\n",
    "# %%capture\n",
    "# !wget http://mi.soi.city.ac.uk/datasets/magnatagatune/annotations_final.csv\n",
    "# !gdown --id 1f_kUF9nTLFI0pJaZxm6YNt4t_J6-Q-dg\n",
    "# !tar -xvf gct634.tar.gz"
   ]
  },
  {
   "cell_type": "code",
   "execution_count": 2,
   "metadata": {},
   "outputs": [],
   "source": [
    "# !pip install torchaudio==0.9.0"
   ]
  },
  {
   "cell_type": "code",
   "execution_count": 3,
   "metadata": {},
   "outputs": [],
   "source": [
    "import warnings\n",
    "import multiprocessing\n",
    "warnings.filterwarnings(action='ignore')\n",
    "\n",
    "import numpy as np\n",
    "import pandas as pd\n",
    "import os\n",
    "import torchaudio\n",
    "import torch\n",
    "import torch.nn as nn\n",
    "from sklearn import metrics\n",
    "\n",
    "from tqdm.notebook import tqdm\n",
    "from glob import glob\n",
    "from torch.utils.data import Dataset, DataLoader\n",
    "from torch.optim.lr_scheduler import ReduceLROnPlateau\n",
    "\n",
    "import IPython.display as ipd\n",
    "\n",
    "%matplotlib inline"
   ]
  },
  {
   "cell_type": "code",
   "execution_count": 4,
   "metadata": {},
   "outputs": [],
   "source": [
    "# use 50 top tags\n",
    "TAGS_1 = ['guitar','rock']"
   ]
  },
  {
   "cell_type": "code",
   "execution_count": 5,
   "metadata": {},
   "outputs": [
    {
     "data": {
      "text/plain": [
       "classical                                                    1\n",
       "strings                                                      1\n",
       "opera                                                        1\n",
       "violin                                                       1\n",
       "mp3_path     f/american_bach_soloists-j_s__bach_solo_cantat...\n",
       "Name: 2, dtype: object"
      ]
     },
     "execution_count": 5,
     "metadata": {},
     "output_type": "execute_result"
    }
   ],
   "source": [
    "df = pd.read_csv(\"./annotations_final.csv\", sep=\"\\t\", index_col=0)\n",
    "item = df.iloc[0]\n",
    "item[item != 0] # check annotated tags"
   ]
  },
  {
   "cell_type": "code",
   "execution_count": 6,
   "metadata": {},
   "outputs": [
    {
     "name": "stdout",
     "output_type": "stream",
     "text": [
      "1024\n"
     ]
    }
   ],
   "source": [
    "# filter out, un-annnotated dataset\n",
    "df_filter_1 =  df[TAGS_1].sum(axis=1)\n",
    "use_id_1 = df_filter_1[df_filter_1 == 2].index\n",
    "df = df.loc[use_id_1]\n",
    "\n",
    "print(len(df))"
   ]
  },
  {
   "cell_type": "code",
   "execution_count": 7,
   "metadata": {
    "scrolled": false
   },
   "outputs": [
    {
     "data": {
      "text/plain": [
       "<matplotlib.axes._subplots.AxesSubplot at 0x7fb7f960fd68>"
      ]
     },
     "execution_count": 7,
     "metadata": {},
     "output_type": "execute_result"
    },
    {
     "data": {
      "image/png": "[encoded data removed]",
      "text/plain": [
       "<Figure size 1296x432 with 1 Axes>"
      ]
     },
     "metadata": {
      "needs_background": "light"
     },
     "output_type": "display_data"
    }
   ],
   "source": [
    "df[TAGS_1].sum().plot.bar(figsize=(18,6),rot=60) # check data distribution"
   ]
  },
  {
   "cell_type": "code",
   "execution_count": 8,
   "metadata": {},
   "outputs": [],
   "source": [
    "TAGS_2 = ['classical', 'violin']"
   ]
  },
  {
   "cell_type": "code",
   "execution_count": 9,
   "metadata": {},
   "outputs": [
    {
     "data": {
      "text/plain": [
       "classical                                                    1\n",
       "strings                                                      1\n",
       "opera                                                        1\n",
       "violin                                                       1\n",
       "mp3_path     f/american_bach_soloists-j_s__bach_solo_cantat...\n",
       "Name: 2, dtype: object"
      ]
     },
     "execution_count": 9,
     "metadata": {},
     "output_type": "execute_result"
    }
   ],
   "source": [
    "df = pd.read_csv(\"./annotations_final.csv\", sep=\"\\t\", index_col=0)\n",
    "item = df.iloc[0]\n",
    "item[item != 0] # check annotated tags"
   ]
  },
  {
   "cell_type": "code",
   "execution_count": 10,
   "metadata": {},
   "outputs": [
    {
     "name": "stdout",
     "output_type": "stream",
     "text": [
      "1304\n"
     ]
    }
   ],
   "source": [
    "# filter out, un-annnotated dataset\n",
    "df_filter_2 =  df[TAGS_2].sum(axis=1)\n",
    "use_id_2 = df_filter_2[df_filter_2 == 2].index\n",
    "df = df.loc[use_id_2]\n",
    "\n",
    "print(len(df))"
   ]
  },
  {
   "cell_type": "code",
   "execution_count": 11,
   "metadata": {},
   "outputs": [
    {
     "data": {
      "text/plain": [
       "<matplotlib.axes._subplots.AxesSubplot at 0x7fb7f957fef0>"
      ]
     },
     "execution_count": 11,
     "metadata": {},
     "output_type": "execute_result"
    },
    {
     "data": {
      "image/png": "[encoded data removed]",
      "text/plain": [
       "<Figure size 1296x432 with 1 Axes>"
      ]
     },
     "metadata": {
      "needs_background": "light"
     },
     "output_type": "display_data"
    }
   ],
   "source": [
    "df[TAGS_2].sum().plot.bar(figsize=(18,6),rot=60) # check data distribution"
   ]
  },
  {
   "cell_type": "code",
   "execution_count": 12,
   "metadata": {},
   "outputs": [],
   "source": [
    "# Data preprocessing\n",
    "\n",
    "train = []\n",
    "valid = []\n",
    "test = []\n",
    "id_to_path = {}\n",
    "for idx in range(len(df)):\n",
    "  item = df.iloc[idx]\n",
    "  id = item.name\n",
    "  path = item['mp3_path']\n",
    "  folder = path.split(\"/\")[0]\n",
    "  id_to_path[id] = path\n",
    "  if folder in \"012ab\":\n",
    "    train.append(id)# split = \"train\"\n",
    "  elif folder == \"c\":    \n",
    "    valid.append(id)# split = \"valid\"\n",
    "  elif folder in \"d\":\n",
    "    test.append(id)# split = \"test\""
   ]
  },
  {
   "cell_type": "code",
   "execution_count": 13,
   "metadata": {},
   "outputs": [
    {
     "data": {
      "text/plain": [
       "(551, 0.7404718693284936, 0.21052631578947367, 0.04900181488203267)"
      ]
     },
     "execution_count": 13,
     "metadata": {},
     "output_type": "execute_result"
    }
   ],
   "source": [
    "total = len(train) + len(valid) + len(test)\n",
    "total, len(train) / total, len(valid)/ total, len(test)/ total"
   ]
  },
  {
   "cell_type": "code",
   "execution_count": 14,
   "metadata": {},
   "outputs": [],
   "source": [
    "df = df[TAGS_2]"
   ]
  },
  {
   "cell_type": "code",
   "execution_count": null,
   "metadata": {},
   "outputs": [],
   "source": [
    "df_train = df.loc[train]\n",
    "df_valid = df.loc[valid]\n",
    "df_test = df.loc[test]"
   ]
  },
  {
   "cell_type": "code",
   "execution_count": null,
   "metadata": {},
   "outputs": [],
   "source": [
    "# Data processing setup.\n",
    "SR = 16000\n",
    "BATCH_SIZE = 16"
   ]
  },
  {
   "cell_type": "code",
   "execution_count": null,
   "metadata": {},
   "outputs": [
    {
     "name": "stdout",
     "output_type": "stream",
     "text": [
      "408\n"
     ]
    }
   ],
   "source": [
    "print(len(df_train))"
   ]
  },
  {
   "cell_type": "code",
   "execution_count": null,
   "metadata": {},
   "outputs": [],
   "source": [
    "# Dataset & Loader\n",
    "\n",
    "from torch.utils.data import Dataset, DataLoader\n",
    "import numpy as np\n",
    "\n",
    "class AudioDataset(Dataset):\n",
    "  def __init__(self, paths, input_length, binary, id_to_path, split):\n",
    "    \"\"\"\n",
    "    Args:\n",
    "      paths (str): path to load dataset from\n",
    "      input_length (int): sample_rate x duration (second) \n",
    "      binary (Pandas.DataFrame): binary matrix for audio (index: track_id, columns: tag binary)\n",
    "      id_to_path (Dict): track id to audio path\n",
    "      split (str): one of [TRAIN, VALID, TEST]\n",
    "    \"\"\"\n",
    "    self.paths = paths\n",
    "    self.input_length = input_length\n",
    "    self.binary = binary\n",
    "    self.id_to_path = id_to_path\n",
    "    self.split = split\n",
    "    \n",
    "  def __getitem__(self, index):\n",
    "    item = self.binary.iloc[index]\n",
    "    waveform = self.item_to_waveform(item)\n",
    "    return waveform.astype(np.float32), item.values.astype(np.float32)\n",
    "  \n",
    "  def item_to_waveform(self, item):\n",
    "    id = item.name\n",
    "    path = os.path.join(self.paths, self.id_to_path[id].replace(\".mp3\", \".npy\")) # pre-extract waveform, for fast loader\n",
    "    waveform = np.load(path) \n",
    "    if self.split in ['TRAIN','VALID']:\n",
    "      random_idx = np.random.randint(low=0, high=int(waveform.shape[0] - self.input_length))\n",
    "      waveform = waveform[random_idx:random_idx+self.input_length] # extract input\n",
    "      audio = np.expand_dims(waveform, axis = 0)# 1 x samples\n",
    "    elif self.split == 'TEST':\n",
    "      chunk_number = waveform.shape[0] // self.input_length\n",
    "      chunk = np.zeros((chunk_number, self.input_length))\n",
    "      for idx in range(chunk.shape[0]):\n",
    "        chunk[idx] = waveform[idx:idx+input_length]\n",
    "      audio = chunk\n",
    "    return audio\n",
    "      \n",
    "  def __len__(self):\n",
    "    return len(self.binary)"
   ]
  },
  {
   "cell_type": "code",
   "execution_count": null,
   "metadata": {},
   "outputs": [],
   "source": [
    "BATCH_SIZE = 16\n",
    "num_workers = 2\n",
    "sample_rate = 16000\n",
    "duration = 3\n",
    "input_length =  sample_rate * duration\n",
    "#data_path = \"/content/gdrive/My Drive/Colab Notebooks/HW2/waveform\"\n",
    "data_path = \"./waveform\"\n",
    "tr_data = AudioDataset(data_path, input_length, df_train, id_to_path, 'TRAIN')\n",
    "va_data = AudioDataset(data_path, input_length, df_valid, id_to_path, 'VALID')\n",
    "te_data = AudioDataset(data_path, input_length, df_test, id_to_path, 'TEST')\n",
    "loader_train = DataLoader(tr_data, batch_size=BATCH_SIZE, shuffle=True, num_workers=num_workers, drop_last=True)\n",
    "loader_valid = DataLoader(va_data, batch_size=BATCH_SIZE, shuffle=False, num_workers=num_workers, drop_last=False)\n",
    "loader_test = DataLoader(te_data, batch_size=1, shuffle=False, num_workers=num_workers, drop_last=False) # for chunk inference"
   ]
  },
  {
   "cell_type": "code",
   "execution_count": null,
   "metadata": {},
   "outputs": [],
   "source": [
    "import torch.nn as nn\n",
    "\n",
    "class Baseline(nn.Module):\n",
    "  def __init__(self,\n",
    "              sample_rate=16000,\n",
    "              n_fft=512,\n",
    "              f_min=0.0,\n",
    "              f_max=8000.0,\n",
    "              n_mels=96,\n",
    "              n_class=2):\n",
    "    \"\"\"\n",
    "    Args:\n",
    "      sample_rate (int): path to load dataset from\n",
    "      n_fft (int): number of samples for fft\n",
    "      f_min (float): min freq\n",
    "      f_max (float): max freq\n",
    "      n_mels (float): number of mel bin\n",
    "      n_class (int): number of class\n",
    "    \"\"\"\n",
    "    super(Baseline, self).__init__()\n",
    "    # Spectrogram\n",
    "    self.spec = torchaudio.transforms.MelSpectrogram(sample_rate=sample_rate,\n",
    "                                                      n_fft=n_fft,\n",
    "                                                      f_min=f_min,\n",
    "                                                      f_max=f_max,\n",
    "                                                      n_mels=n_mels)\n",
    "    self.to_db = torchaudio.transforms.AmplitudeToDB()\n",
    "    self.spec_bn = nn.BatchNorm2d(1)\n",
    "    \n",
    "    self.conv0 = nn.Sequential(\n",
    "        nn.Conv1d(n_mels, out_channels=32, kernel_size=3, stride=1, padding=3),\n",
    "        nn.BatchNorm1d(32),\n",
    "        nn.ReLU(),\n",
    "        nn.MaxPool1d(kernel_size=3, stride=3)\n",
    "        )\n",
    "\n",
    "    self.conv1 = nn.Sequential(\n",
    "        nn.Conv1d(32, out_channels=32, kernel_size=3, stride=1, padding=3),\n",
    "        nn.BatchNorm1d(32),\n",
    "        nn.ReLU(),\n",
    "        nn.MaxPool1d(kernel_size=3, stride=3)\n",
    "        )\n",
    "\n",
    "    self.conv2 = nn.Sequential(\n",
    "        nn.Conv1d(32, out_channels=32, kernel_size=3, stride=1, padding=3),\n",
    "        nn.BatchNorm1d(32),\n",
    "        nn.ReLU(),\n",
    "        nn.MaxPool1d(kernel_size=3, stride=3)\n",
    "        )\n",
    "    # Aggregate features over temporal dimension.\n",
    "    self.final_pool = nn.AdaptiveAvgPool1d(1)\n",
    "    # Predict tag using the aggregated features.\n",
    "    self.linear = nn.Linear(32, n_class)\n",
    "\n",
    "  def forward(self, x):\n",
    "    x = self.spec(x)\n",
    "    x = self.to_db(x)\n",
    "    x = self.spec_bn(x)\n",
    "    #print(x.shape) [16 x 1 x 96 x 188]\n",
    "    x = x.squeeze(1) # for 1D conv\n",
    "    #print(x.shape) [16 x 96 x 188]\n",
    "    x = self.conv0(x)\n",
    "    x = self.conv1(x)\n",
    "    x = self.conv2(x)\n",
    "    x = self.final_pool(x)\n",
    "    x = self.linear(x.squeeze(-1))\n",
    "    x = nn.Sigmoid()(x) # for binary cross entropy loss\n",
    "    return x"
   ]
  },
  {
   "cell_type": "code",
   "execution_count": null,
   "metadata": {},
   "outputs": [],
   "source": [
    "class Runner(object):\n",
    "  def __init__(self, model, lr, momentum, weight_decay, sr, tags):\n",
    "    \"\"\"\n",
    "    Args:\n",
    "      model (nn.Module): pytorch model\n",
    "      lr (float): learning rate\n",
    "      momentum (float): momentum\n",
    "      weight_decay (float): weight_decay\n",
    "      sr (float): stopping rate\n",
    "      tags (list): tags with index\n",
    "    \"\"\"\n",
    "    self.optimizer = torch.optim.SGD(model.parameters(), lr=lr, momentum=momentum, nesterov=True, weight_decay=weight_decay)\n",
    "    self.scheduler = ReduceLROnPlateau(self.optimizer, mode='min', factor=0.2, patience=5, verbose=True)\n",
    "    self.learning_rate = lr\n",
    "    self.stopping_rate = sr\n",
    "    self.device = torch.device('cuda') if torch.cuda.is_available() else torch.device('cpu')\n",
    "    self.model = model.to(self.device)\n",
    "    self.criterion = torch.nn.BCELoss().to(self.device)\n",
    "    self.tags = tags\n",
    "\n",
    "  # Running model for train, test and validation. mode: 'train' for training, 'eval' for validation and test\n",
    "  def run(self, dataloader, epoch, mode='TRAIN'):\n",
    "    self.model.train() if mode is 'TRAIN' else self.model.eval()\n",
    "\n",
    "    epoch_loss = 0\n",
    "    pbar = tqdm(dataloader, desc=f'{mode} Epoch {epoch:02}')  # progress bar\n",
    "    for x, y in pbar:\n",
    "      # Move mini-batch to the desired device.\n",
    "      x = x.to(self.device)\n",
    "      y = y.to(self.device)\n",
    "      # Feed forward the model.\n",
    "      prediction = self.model(x)\n",
    "      # Compute the loss.\n",
    "      loss = self.criterion(prediction, y)\n",
    "      if mode is 'TRAIN':\n",
    "        # Perform backward propagation to compute gradients.\n",
    "        loss.backward()\n",
    "        # Update the parameters.\n",
    "        self.optimizer.step()\n",
    "        # Reset the computed gradients.\n",
    "        self.optimizer.zero_grad()\n",
    "\n",
    "      batch_size = len(x)\n",
    "      epoch_loss += batch_size * loss.item()\n",
    "    epoch_loss = epoch_loss / len(dataloader.dataset)\n",
    "    return epoch_loss\n",
    "\n",
    "  def test(self, dataloader):\n",
    "    self.model.eval()\n",
    "    epoch_loss = 0\n",
    "    predictions = []\n",
    "    labels = []\n",
    "    pbar = tqdm(dataloader, desc=f'TEST')  # progress bar\n",
    "    for x, y in pbar:\n",
    "      x = x.to(self.device)\n",
    "      y = y.to(self.device)\n",
    "      x = x.transpose(1,0) # pre-batch in audio loader (chunk, 1, waveform)\n",
    "      prediction = self.model(x)\n",
    "      prediction = prediction.mean(dim=0, keepdim=True) # average chunk audio\n",
    "      loss = self.criterion(prediction, y) \n",
    "      batch_size = len(x)\n",
    "      epoch_loss += batch_size * loss.item()\n",
    "      predictions.extend(prediction.detach().cpu().numpy())\n",
    "      labels.extend(y.detach().cpu().numpy())\n",
    "    epoch_loss = epoch_loss / len(loader_test.dataset)\n",
    "    roc_aucs, tag_wise_rocaucs = self.get_auc(predictions, labels)\n",
    "    return roc_aucs, epoch_loss, tag_wise_rocaucs\n",
    "\n",
    "  # Early stopping function for given validation loss, you can use this part!\n",
    "  def early_stop(self, loss, epoch):\n",
    "    self.scheduler.step(loss, epoch)\n",
    "    self.learning_rate = self.optimizer.param_groups[0]['lr']\n",
    "    stop = self.learning_rate < self.stopping_rate\n",
    "    return stop\n",
    "\n",
    "  def get_auc(self, predictions, labels):\n",
    "    roc_aucs  = metrics.roc_auc_score(labels, predictions, average='macro')\n",
    "    tag_wise_predictions = np.stack(predictions).T\n",
    "    tag_wise_labels = np.stack(labels).T\n",
    "    tag_wise_rocaucs = {}\n",
    "    for tag, logit, label in zip(self.tags, tag_wise_predictions, tag_wise_labels):\n",
    "      tag_wise_rocaucs[tag] = metrics.roc_auc_score(label, logit)\n",
    "    return roc_aucs, tag_wise_rocaucs"
   ]
  },
  {
   "cell_type": "code",
   "execution_count": null,
   "metadata": {},
   "outputs": [],
   "source": [
    "# Training setup.\n",
    "LR = 1e-3  # learning rate\n",
    "SR = 1e-5  # stopping rate\n",
    "MOMENTUM = 0.9\n",
    "NUM_EPOCHS = 10\n",
    "WEIGHT_DECAY = 0.0  # L2 regularization weight"
   ]
  },
  {
   "cell_type": "code",
   "execution_count": null,
   "metadata": {},
   "outputs": [
    {
     "data": {
      "application/vnd.jupyter.widget-view+json": {
       "model_id": "4d80fa19627a4bd3993050fdd395d60d",
       "version_major": 2,
       "version_minor": 0
      },
      "text/plain": [
       "TRAIN Epoch 00:   0%|          | 0/25 [00:00<?, ?it/s]"
      ]
     },
     "metadata": {},
     "output_type": "display_data"
    }
   ],
   "source": [
    "# Iterate over epochs.\n",
    "model = Baseline()\n",
    "runner = Runner(model=model, lr = LR, momentum = MOMENTUM, weight_decay = WEIGHT_DECAY, sr = SR, tags=TAGS_2)\n",
    "for epoch in range(NUM_EPOCHS):\n",
    "  train_loss = runner.run(loader_train, epoch, 'TRAIN')\n",
    "  valid_loss = runner.run(loader_valid, epoch, 'VALID')\n",
    "  print(\"[Epoch %d/%d] [Train Loss: %.4f] [Valid Loss: %.4f]\" %\n",
    "        (epoch + 1, NUM_EPOCHS, train_loss, valid_loss))\n",
    "  if runner.early_stop(valid_loss, epoch + 1):\n",
    "    break"
   ]
  },
  {
   "cell_type": "code",
   "execution_count": null,
   "metadata": {},
   "outputs": [],
   "source": [
    "roc_aucs, epoch_loss, tag_wise_rocaucs = runner.test(loader_test)\n",
    "print(f'test_loss={epoch_loss:.5f},  roc_auc={roc_aucs:.2f}%')"
   ]
  },
  {
   "cell_type": "code",
   "execution_count": null,
   "metadata": {},
   "outputs": [],
   "source": [
    "result_auc = pd.DataFrame([tag_wise_rocaucs[tag] for tag in TAGS_2], columns=['rocauc'], index=TAGS_2)\n",
    "result_auc.sort_values(by='rocauc', ascending=False).plot.bar(figsize=(18,6),rot=60) # which tag is easy and hard task"
   ]
  },
  {
   "cell_type": "code",
   "execution_count": null,
   "metadata": {},
   "outputs": [],
   "source": []
  }
 ],
 "metadata": {
  "kernelspec": {
   "display_name": "Python 3",
   "language": "python",
   "name": "python3"
  },
  "language_info": {
   "codemirror_mode": {
    "name": "ipython",
    "version": 3
   },
   "file_extension": ".py",
   "mimetype": "text/x-python",
   "name": "python",
   "nbconvert_exporter": "python",
   "pygments_lexer": "ipython3",
   "version": "3.6.7"
  }
 },
 "nbformat": 4,
 "nbformat_minor": 2
}
